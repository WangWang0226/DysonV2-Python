{
  "cells": [
    {
      "cell_type": "markdown",
      "metadata": {},
      "source": [
        "# Dyson V2 Deposit & Premium Simulation\n",
        "此範例模擬 Dyson V2 的存款 (Deposit) 與對應的 Premium 計算流程，\n",
        "並展示如何使用 Python 進行簡單的狀態維護與測試。"
      ]
    },
    {
      "cell_type": "code",
      "execution_count": 406,
      "metadata": {},
      "outputs": [],
      "source": [
        "import math\n",
        "import numpy as np\n",
        "\n",
        "########################################\n",
        "# 初始參數設定\n",
        "########################################\n",
        "\n",
        "# 池子初始狀態\n",
        "x = 100.0       # ETH\n",
        "y = 200000.0    # USDC\n",
        "\n",
        "# x = 1000.0  # ETH\n",
        "# y = 1000.0  # USDC\n",
        "\n",
        "# 目標當日可賣額度\n",
        "daily_sell_target_eth = 200.0\n",
        "\n",
        "# 協定計算需要的基礎變數\n",
        "k = math.sqrt(x * y)  # sqrt(x*y)\n",
        "w = daily_sell_target_eth * k  # 當日可賣流動性刻度\n",
        "\n",
        "# 全域變數 q (今日累積使用的刻度)\n",
        "q = 0.0  \n",
        "\n",
        "basis = 0.5  # 假設年化波動率 50%\n",
        "ln2 = 0.69314718055994530941723212145817656807550013436025525412068000949339362196 # ln(2)"
      ]
    },
    {
      "cell_type": "markdown",
      "metadata": {},
      "source": [
        "### DysonV2 Premium 計算\n",
        "- q_old = deposit前的池子累積 q 值（已賣額度）\n",
        "- q_new = deposit後的池子累積 q 值（已賣額度）\n",
        "- w = 池子可賣額度\n",
        "\n",
        "$$\n",
        "a = \\frac{q_{old}}{w}, b = \\frac{q_{new}}{w}\n",
        "$$\n",
        "$$\n",
        "discount = ln(2) \\times \\frac{ \\log_2(1+b) - \\log_2(1+a) }{ b - a}\n",
        "$$\n",
        "\n",
        "$$\n",
        "Premium\n",
        "= \\underbrace{0.4\\,basis\\,\\sqrt{t}}_{\\text{basic rate}}\n",
        "\\times\n",
        "\\underbrace{\\bigl(\\text{discount}\\bigr)}_{\\text{區段平均調整}}.\n",
        "$$"
      ]
    },
    {
      "cell_type": "code",
      "execution_count": 407,
      "metadata": {},
      "outputs": [
        {
          "name": "stdout",
          "output_type": "stream",
          "text": [
            "[0, 0.001] => discount=0.9995\n",
            "[0, 0.1] => discount=0.9531\n",
            "[0, 0.2] => discount=0.9116\n",
            "[0.2, 0.3] => discount=0.8004\n",
            "[0.2, 0.9] => discount=0.6565\n",
            "[0.9, 0.999] => discount=0.5131\n",
            "[0.9, 1.0] => discount=0.5129\n"
          ]
        }
      ],
      "source": [
        "import math\n",
        "\n",
        "\n",
        "def calc_discount(a, b):\n",
        "    if b <= a:\n",
        "        raise ValueError(\"b should greater than a.\")\n",
        "\n",
        "    if a < 0 or b < 0:\n",
        "        # 不預期情況: 此函式假設 a, b >= 0\n",
        "        raise ValueError(\"a, b should be non-negative in this context.\")\n",
        "\n",
        "    # 如果 a > 0, 走正常公式:\n",
        "    numerator = (math.log2(b + 1) - math.log2(a + 1)) * math.log(2)\n",
        "    denom = b - a\n",
        "    return numerator / denom\n",
        "\n",
        "# --- 測試 ---\n",
        "test_cases = [\n",
        "    (0, 0.001),\n",
        "    (0, 0.1),\n",
        "    (0, 0.2),\n",
        "    (0.2, 0.3),\n",
        "    (0.2, 0.9),\n",
        "    (0.9, 0.999),\n",
        "    (0.9, 1.0),\n",
        "]\n",
        "\n",
        "for a, b in test_cases:\n",
        "    d_log2 = calc_discount(a, b)\n",
        "    print(f\"[{a}, {b}] => discount={d_log2:.4f}\")"
      ]
    },
    {
      "cell_type": "code",
      "execution_count": 408,
      "metadata": {},
      "outputs": [],
      "source": [
        "def calc_premium(q_old, q_new, basis, time_days):\n",
        "    \"\"\"\n",
        "    最終 Premium = (0.4 * basis * sqrt(time)) * discount\n",
        "    discount = (對應區間 [q_old, q_new] 的對數平均)\n",
        "    \"\"\"\n",
        "    discount = calc_discount(q_old/w, q_new/w)\n",
        "\n",
        "    # basic rate\n",
        "    # t 若以天計算, 需先轉成年化, 看協定定義.\n",
        "    # 這裡假設 time_days / 365.\n",
        "    t_yr = time_days / 365.0\n",
        "    basic_rate = 0.4 * basis * math.sqrt(t_yr)\n",
        "\n",
        "    return basic_rate * discount"
      ]
    },
    {
      "cell_type": "markdown",
      "metadata": {},
      "source": [
        "### DysonV2 deposit 公式\n",
        "$$\n",
        "Q = 4 \\cdot (\\sqrt{(x+input_0)(y+input_1)} - \\sqrt{xy})^2\n",
        "$$"
      ]
    },
    {
      "cell_type": "code",
      "execution_count": 409,
      "metadata": {},
      "outputs": [],
      "source": [
        "def dyson_deposit_formula(balance0, balance1, inputAmt0, inputAmt1, duration):\n",
        "    global q\n",
        "    global x, y\n",
        "\n",
        "    \"\"\"\n",
        "    依照 Dyson V2 公式計算:\n",
        "    Q = 4 * ( sqrt((x+input0)*(y+input1)) - sqrt(x*y) )^2\n",
        "    並回傳 (noteAmt0, noteAmt1, Q)\n",
        "    \"\"\"\n",
        "    sqrt_xy = math.sqrt(balance0 * balance1)\n",
        "    sqrt_xMyN = math.sqrt((balance0 + inputAmt0) * (balance1 + inputAmt1))\n",
        "    diff = max(sqrt_xMyN - sqrt_xy, 0)\n",
        "    Q = 4.0 * diff * diff\n",
        "\n",
        "    # 判斷單邊比較: inputAmt0 / balance0 vs. inputAmt1 / balance1\n",
        "    # 等價於 inputAmt0*balance1 > inputAmt1*balance0\n",
        "    if (inputAmt0 * balance1) > (inputAmt1 * balance0):\n",
        "        ratio = (inputAmt1 * balance0) / balance1 if balance1 > 0 else 0\n",
        "        noteAmt0 = inputAmt0 + ratio\n",
        "        if noteAmt0 == 0:\n",
        "            noteAmt1 = 0\n",
        "        else:\n",
        "            noteAmt1 = Q / noteAmt0\n",
        "    else:\n",
        "        ratio = (inputAmt0 * balance1) / balance0 if balance0 > 0 else 0\n",
        "        noteAmt1 = inputAmt1 + ratio\n",
        "        if noteAmt1 == 0:\n",
        "            noteAmt0 = 0\n",
        "        else:\n",
        "            noteAmt0 = Q / noteAmt1\n",
        "\n",
        "    sqrt_Q = math.sqrt(Q)\n",
        "\n",
        "    # 協定更新 q：\n",
        "    q_old = q\n",
        "    q_new = q + sqrt_Q  # 新的刻度\n",
        "    print(f\"q_old={q_old}, q_new={q_new}, sqrt_Q={sqrt_Q}\")\n",
        "\n",
        "    # 計算該筆投資的 Premium\n",
        "    premium = calc_premium(q_old=q_old, q_new=q_new, basis=basis, time_days=duration)\n",
        "\n",
        "    # 最後更新全域狀態\n",
        "    q = q_new\n",
        "    # 同時池子 x, y 也應更新 (模擬實際存入後的新餘額)\n",
        "    x += inputAmt0\n",
        "    y += inputAmt1\n",
        "\n",
        "    return noteAmt0, noteAmt1, sqrt_Q, q_old, q_new, premium"
      ]
    },
    {
      "cell_type": "code",
      "execution_count": 410,
      "metadata": {},
      "outputs": [],
      "source": [
        "def compute_withdraw_ratio(x, y, m, n):\n",
        "    \"\"\"\n",
        "    計算使用者兌換比例 a，範圍應落在 [0, 1]。\n",
        "    其中：\n",
        "        x, y 為池子目前的 token0 和 token1 儲備\n",
        "        m, n 為票據 note 中的 token0Amt, token1Amt\n",
        "    \"\"\"\n",
        "    if m == 0 or n == 0:\n",
        "        raise ValueError(\"m and n must be non-zero\")\n",
        "\n",
        "    a = 0.5 + x / (2 * m) - y / (2 * n)\n",
        "    return max(0, min(a, 1))  # Clamp to [0, 1]"
      ]
    },
    {
      "cell_type": "markdown",
      "metadata": {},
      "source": [
        "### Demo: 實際跑一筆 deposit"
      ]
    },
    {
      "cell_type": "code",
      "execution_count": 411,
      "metadata": {},
      "outputs": [],
      "source": [
        "import pandas as pd\n",
        "\n",
        "pd.set_option(\"display.float_format\", lambda x: \"%.2f\" % x)\n",
        "\n",
        "# Create initial parameters DataFrame\n",
        "initial_params = pd.DataFrame(\n",
        "    {\n",
        "        \"Parameter\": [\n",
        "            \"Pool ETH (x)\",\n",
        "            \"Pool USDC (y)\",\n",
        "            \"Daily Sell Target (ETH)\",\n",
        "            \"K (sqrt(x*y))\",\n",
        "            \"W (K * Daily Sell Target)\",\n",
        "            \"Current q\",\n",
        "            \"Basis (Annual Volatility)\",\n",
        "        ],\n",
        "        \"Value\": [x, y, daily_sell_target_eth, k, w, q, basis],\n",
        "    }\n",
        ")\n"
      ]
    },
    {
      "cell_type": "code",
      "execution_count": 412,
      "metadata": {},
      "outputs": [],
      "source": [
        "import pandas as pd\n",
        "\n",
        "pd.set_option(\"display.float_format\", lambda x: \"%.4f\" % x)\n",
        "\n",
        "def process_deposit(deposit_time_days, inputAmt0, inputAmt1):\n",
        "    noteAmt0, noteAmt1, sqrt_Q, q_old, q_new, premium = dyson_deposit_formula(\n",
        "        x, y, inputAmt0, inputAmt1, deposit_time_days\n",
        "    )\n",
        "\n",
        "    noteAmt0WithPremium = noteAmt0 * (1 + premium)\n",
        "    noteAmt1WithPremium = noteAmt1 * (1 + premium)\n",
        "\n",
        "    a = compute_withdraw_ratio(x, y, noteAmt0WithPremium, noteAmt1WithPremium)\n",
        "\n",
        "    withdraw0 = noteAmt0WithPremium * a\n",
        "    withdraw1 = noteAmt1WithPremium * (1 - a)\n",
        "\n",
        "    return {\n",
        "        \"Days\": deposit_time_days,\n",
        "        \"Input(ETH, USDC)\": (inputAmt0, round(inputAmt1, 4)),\n",
        "        \"q\": sqrt_Q,\n",
        "        \"q_old/w\": q_old / w,\n",
        "        \"q_new/w\": q_new / w,\n",
        "        \"Note(ETH, USDC)\": (noteAmt0, round(noteAmt1, 4)),\n",
        "        \"Premium\": premium,\n",
        "        \"NoteWithPremiun(ETH, USDC)\": (\n",
        "            noteAmt0WithPremium,\n",
        "            noteAmt1WithPremium,\n",
        "        ),\n",
        "        \"withdraw(ETH, USDC)\": (withdraw0, round(withdraw1, 4)),\n",
        "        \"New Pool(ETH, USDC)\": (x, y),\n",
        "    }"
      ]
    },
    {
      "cell_type": "code",
      "execution_count": 413,
      "metadata": {},
      "outputs": [
        {
          "name": "stdout",
          "output_type": "stream",
          "text": [
            "\n",
            "=== Initial Parameters ===\n"
          ]
        },
        {
          "data": {
            "text/html": [
              "<div>\n",
              "<style scoped>\n",
              "    .dataframe tbody tr th:only-of-type {\n",
              "        vertical-align: middle;\n",
              "    }\n",
              "\n",
              "    .dataframe tbody tr th {\n",
              "        vertical-align: top;\n",
              "    }\n",
              "\n",
              "    .dataframe thead th {\n",
              "        text-align: right;\n",
              "    }\n",
              "</style>\n",
              "<table border=\"1\" class=\"dataframe\">\n",
              "  <thead>\n",
              "    <tr style=\"text-align: right;\">\n",
              "      <th></th>\n",
              "      <th>Parameter</th>\n",
              "      <th>Value</th>\n",
              "    </tr>\n",
              "  </thead>\n",
              "  <tbody>\n",
              "    <tr>\n",
              "      <th>0</th>\n",
              "      <td>Pool ETH (x)</td>\n",
              "      <td>100.0000</td>\n",
              "    </tr>\n",
              "    <tr>\n",
              "      <th>1</th>\n",
              "      <td>Pool USDC (y)</td>\n",
              "      <td>200000.0000</td>\n",
              "    </tr>\n",
              "    <tr>\n",
              "      <th>2</th>\n",
              "      <td>Daily Sell Target (ETH)</td>\n",
              "      <td>200.0000</td>\n",
              "    </tr>\n",
              "    <tr>\n",
              "      <th>3</th>\n",
              "      <td>K (sqrt(x*y))</td>\n",
              "      <td>4472.1360</td>\n",
              "    </tr>\n",
              "    <tr>\n",
              "      <th>4</th>\n",
              "      <td>W (K * Daily Sell Target)</td>\n",
              "      <td>894427.1910</td>\n",
              "    </tr>\n",
              "    <tr>\n",
              "      <th>5</th>\n",
              "      <td>Current q</td>\n",
              "      <td>0.0000</td>\n",
              "    </tr>\n",
              "    <tr>\n",
              "      <th>6</th>\n",
              "      <td>Basis (Annual Volatility)</td>\n",
              "      <td>0.5000</td>\n",
              "    </tr>\n",
              "  </tbody>\n",
              "</table>\n",
              "</div>"
            ],
            "text/plain": [
              "                   Parameter       Value\n",
              "0               Pool ETH (x)    100.0000\n",
              "1              Pool USDC (y) 200000.0000\n",
              "2    Daily Sell Target (ETH)    200.0000\n",
              "3              K (sqrt(x*y))   4472.1360\n",
              "4  W (K * Daily Sell Target) 894427.1910\n",
              "5                  Current q      0.0000\n",
              "6  Basis (Annual Volatility)      0.5000"
            ]
          },
          "execution_count": 413,
          "metadata": {},
          "output_type": "execute_result"
        }
      ],
      "source": [
        "print(\"\\n=== Initial Parameters ===\")\n",
        "initial_params"
      ]
    },
    {
      "cell_type": "code",
      "execution_count": 414,
      "metadata": {},
      "outputs": [
        {
          "name": "stdout",
          "output_type": "stream",
          "text": [
            "q_old=0.0, q_new=436.5596096477002, sqrt_Q=436.5596096477002\n",
            "q_old=436.5596096477002, q_new=853.6870611335526, sqrt_Q=417.12745148585236\n",
            "=== Deposit Results ===\n"
          ]
        },
        {
          "data": {
            "text/html": [
              "<div>\n",
              "<style scoped>\n",
              "    .dataframe tbody tr th:only-of-type {\n",
              "        vertical-align: middle;\n",
              "    }\n",
              "\n",
              "    .dataframe tbody tr th {\n",
              "        vertical-align: top;\n",
              "    }\n",
              "\n",
              "    .dataframe thead th {\n",
              "        text-align: right;\n",
              "    }\n",
              "</style>\n",
              "<table border=\"1\" class=\"dataframe\">\n",
              "  <thead>\n",
              "    <tr style=\"text-align: right;\">\n",
              "      <th></th>\n",
              "      <th>Days</th>\n",
              "      <th>Input(ETH, USDC)</th>\n",
              "      <th>q</th>\n",
              "      <th>q_old/w</th>\n",
              "      <th>q_new/w</th>\n",
              "      <th>Note(ETH, USDC)</th>\n",
              "      <th>Premium</th>\n",
              "      <th>NoteWithPremiun(ETH, USDC)</th>\n",
              "      <th>withdraw(ETH, USDC)</th>\n",
              "      <th>New Pool(ETH, USDC)</th>\n",
              "    </tr>\n",
              "  </thead>\n",
              "  <tbody>\n",
              "    <tr>\n",
              "      <th>0</th>\n",
              "      <td>1</td>\n",
              "      <td>(10, 0)</td>\n",
              "      <td>436.5596</td>\n",
              "      <td>0.0000</td>\n",
              "      <td>0.0005</td>\n",
              "      <td>(10.0, 19058.4293)</td>\n",
              "      <td>0.0105</td>\n",
              "      <td>(10.104659245109278, 19257.893359691196)</td>\n",
              "      <td>(7.582108418300821, 4807.5857)</td>\n",
              "      <td>(110.0, 200000.0)</td>\n",
              "    </tr>\n",
              "    <tr>\n",
              "      <th>1</th>\n",
              "      <td>1</td>\n",
              "      <td>(10, 0)</td>\n",
              "      <td>417.1275</td>\n",
              "      <td>0.0005</td>\n",
              "      <td>0.0010</td>\n",
              "      <td>(10.0, 17399.5311)</td>\n",
              "      <td>0.0105</td>\n",
              "      <td>(10.104609334856981, 17581.546415600733)</td>\n",
              "      <td>(7.579491434738103, 4393.5867)</td>\n",
              "      <td>(120.0, 200000.0)</td>\n",
              "    </tr>\n",
              "  </tbody>\n",
              "</table>\n",
              "</div>"
            ],
            "text/plain": [
              "   Days Input(ETH, USDC)        q  q_old/w  q_new/w     Note(ETH, USDC)  \\\n",
              "0     1          (10, 0) 436.5596   0.0000   0.0005  (10.0, 19058.4293)   \n",
              "1     1          (10, 0) 417.1275   0.0005   0.0010  (10.0, 17399.5311)   \n",
              "\n",
              "   Premium                NoteWithPremiun(ETH, USDC)  \\\n",
              "0   0.0105  (10.104659245109278, 19257.893359691196)   \n",
              "1   0.0105  (10.104609334856981, 17581.546415600733)   \n",
              "\n",
              "              withdraw(ETH, USDC) New Pool(ETH, USDC)  \n",
              "0  (7.582108418300821, 4807.5857)   (110.0, 200000.0)  \n",
              "1  (7.579491434738103, 4393.5867)   (120.0, 200000.0)  "
            ]
          },
          "execution_count": 414,
          "metadata": {},
          "output_type": "execute_result"
        }
      ],
      "source": [
        "# Initialize results DataFrame\n",
        "deposits_df = pd.DataFrame()\n",
        "\n",
        "# First deposit\n",
        "deposit1 = process_deposit(1, 10, 0)\n",
        "deposits_df = pd.concat([deposits_df, pd.DataFrame([deposit1])], ignore_index=True)\n",
        "\n",
        "# Second deposit\n",
        "deposit2 = process_deposit(1, 10, 0)\n",
        "deposits_df = pd.concat([deposits_df, pd.DataFrame([deposit2])], ignore_index=True)\n",
        "\n",
        "print(\"=== Deposit Results ===\")\n",
        "deposits_df"
      ]
    },
    {
      "cell_type": "code",
      "execution_count": 415,
      "metadata": {},
      "outputs": [
        {
          "name": "stdout",
          "output_type": "stream",
          "text": [
            "After User2 withdraw, User1 can withdraw ETH: 9.945025031077098, USDC: 304.23773784136193\n"
          ]
        }
      ],
      "source": [
        "(noteAmt0WithPremium, noteAmt1WithPremium) = deposits_df.iloc[0][\n",
        "    \"NoteWithPremiun(ETH, USDC)\"\n",
        "]\n",
        "(user2Withdraw0, user2Withdraw1) = deposits_df.iloc[1][\"withdraw(ETH, USDC)\"]\n",
        "a = compute_withdraw_ratio(x-user2Withdraw0, y-user2Withdraw1, noteAmt0WithPremium, noteAmt1WithPremium)\n",
        "\n",
        "user1Withdraw0 = noteAmt0WithPremium * a\n",
        "user1Withdraw1 = noteAmt1WithPremium * (1 - a)\n",
        "\n",
        "print(f\"After User2 withdraw, User1 can withdraw ETH: {user1Withdraw0}, USDC: {user1Withdraw1}\")"
      ]
    },
    {
      "cell_type": "code",
      "execution_count": 416,
      "metadata": {},
      "outputs": [
        {
          "name": "stdout",
          "output_type": "stream",
          "text": [
            "ln(2): 0xb17217f7d1cf7800\n",
            "pi:    0x3243f6a8885a30000\n",
            "e:     0x2b7e151628aed2000\n"
          ]
        }
      ],
      "source": [
        "def to_q64_64(value: float) -> str:\n",
        "    \"\"\"\n",
        "    將十進位浮點數轉換成 Q64.64 fixed point 十六進位表示。\n",
        "    Q64.64 意味著乘以 2^64，再轉成十六進位。\n",
        "    \"\"\"\n",
        "    q64_val = int(value * (1 << 64))  # value * 2^64\n",
        "    return hex(q64_val)\n",
        "\n",
        "\n",
        "# 範例：\n",
        "print(\"ln(2):\", to_q64_64(0.6931471805599453))  # ➜ 0xb17217f7d1cf79ac\n",
        "print(\"pi:   \", to_q64_64(3.141592653589793))  # ➜ 0x3243f6a8885a308d\n",
        "print(\"e:    \", to_q64_64(2.718281828459045))  # ➜ 0x2b7e151628aed2a6"
      ]
    }
  ],
  "metadata": {
    "kernelspec": {
      "display_name": "DysonV2-Python-1_sNre0H",
      "language": "python",
      "name": "python3"
    },
    "language_info": {
      "codemirror_mode": {
        "name": "ipython",
        "version": 3
      },
      "file_extension": ".py",
      "mimetype": "text/x-python",
      "name": "python",
      "nbconvert_exporter": "python",
      "pygments_lexer": "ipython3",
      "version": "3.13.2"
    }
  },
  "nbformat": 4,
  "nbformat_minor": 2
}
