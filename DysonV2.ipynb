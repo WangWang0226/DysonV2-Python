{
  "cells": [
    {
      "cell_type": "markdown",
      "metadata": {},
      "source": [
        "# Dyson V2 Deposit & Premium Simulation\n",
        "此範例模擬 Dyson V2 的存款 (Deposit) 與對應的 Premium 計算流程，\n",
        "並展示如何使用 Python 進行簡單的狀態維護與測試。"
      ]
    },
    {
      "cell_type": "code",
      "execution_count": 957,
      "metadata": {},
      "outputs": [
        {
          "name": "stdout",
          "output_type": "stream",
          "text": [
            "1743523200.0\n"
          ]
        }
      ],
      "source": [
        "from datetime import datetime, timezone\n",
        "from typing import Optional, Union\n",
        "import time\n",
        "\n",
        "class TimeManager:\n",
        "    _instance = None\n",
        "\n",
        "    def __new__(cls):\n",
        "        if cls._instance is None:\n",
        "            cls._instance = super(TimeManager, cls).__new__(cls)\n",
        "            cls._instance._mock_time = None\n",
        "            cls._instance._tz = timezone.utc\n",
        "        return cls._instance\n",
        "\n",
        "    def setCurrentTime(\n",
        "        self, timestamp: Union[int, float, datetime, None] = None\n",
        "    ) -> None:\n",
        "        \"\"\"Set current time for testing/mocking\"\"\"\n",
        "        if isinstance(timestamp, datetime):\n",
        "            self._mock_time = timestamp.timestamp()\n",
        "        else:\n",
        "            self._mock_time = timestamp\n",
        "\n",
        "    def getCurrentTime(self) -> datetime:\n",
        "        \"\"\"Get current time (mocked or real)\"\"\"\n",
        "        if self._mock_time is not None:\n",
        "            return datetime.fromtimestamp(self._mock_time, tz=self._tz)\n",
        "        return datetime.now(tz=self._tz)\n",
        "\n",
        "    def getTimestamp(self) -> float:\n",
        "        \"\"\"Get Unix timestamp\"\"\"\n",
        "        return self.getCurrentTime().timestamp()\n",
        "\n",
        "    def setTimezone(self, tz: timezone) -> None:\n",
        "        \"\"\"Set timezone for time operations\"\"\"\n",
        "        self._tz = tz\n",
        "\n",
        "    def resetMock(self) -> None:\n",
        "        \"\"\"Reset mock time to use real time\"\"\"\n",
        "        self._mock_time = None\n",
        "\n",
        "\n",
        "# Usage example:\n",
        "tm = TimeManager()\n",
        "tm.setCurrentTime(datetime(2025, 4, 1, 16, 00, tzinfo=timezone.utc))\n",
        "print(tm.getTimestamp())  # 2024-01-01 12:00:00+00:00"
      ]
    },
    {
      "cell_type": "code",
      "execution_count": 958,
      "metadata": {},
      "outputs": [],
      "source": [
        "import math\n",
        "import numpy as np\n",
        "\n",
        "########################################\n",
        "# 初始參數設定\n",
        "########################################\n",
        "\n",
        "current_price = 1788.79818043313\n",
        "\n",
        "# 池子初始狀態\n",
        "x = 10.0       # ETH\n",
        "y = 10.0 * current_price  # USDC\n",
        "\n",
        "# x = 1000.0  # ETH\n",
        "# y = 1000.0  # USDC\n",
        "\n",
        "# 目標當日可賣額度，設為 200 表示當日可賣相當於 200 倍底池的數量 合理大概 1-3 倍，保險是 1 倍\n",
        "daily_sell_target = 1.0\n",
        "\n",
        "# 協定計算需要的基礎變數\n",
        "k = math.sqrt(x * y)  # k = 底池流動性刻度\n",
        "w = daily_sell_target * k  # w = 當日可賣流動性刻度\n",
        "\n",
        "# 全域變數 sqrt_Q (此週期累積已賣的流動性刻度)\n",
        "accumulatd_sqrt_Q = 0.0  \n",
        "\n",
        "basis = 0.5  # 假設年化波動率 50%\n",
        "ln2 = 0.69314718055994530941723212145817656807550013436025525412068000949339362196 # ln(2)"
      ]
    },
    {
      "cell_type": "markdown",
      "metadata": {},
      "source": [
        "### DysonV2 Premium 計算\n",
        "- q_old = deposit 前，當前週期內已累積的 sqrt_Q 值（已賣額度）\n",
        "- q_new = deposit 後，當前週期內已累積的 sqrt_Q 值（已賣額度）\n",
        "- w = 池子可賣額度\n",
        "\n",
        "$$\n",
        "a = \\frac{q_{old}}{w}, b = \\frac{q_{new}}{w}\n",
        "$$\n",
        "$$\n",
        "discount = ln(2) \\times \\frac{ \\log_2(1+b) - \\log_2(1+a) }{ b - a}\n",
        "$$\n",
        "\n",
        "$$\n",
        "Premium\n",
        "= \\underbrace{0.4\\,basis\\,\\sqrt{t}}_{\\text{basic rate}}\n",
        "\\times\n",
        "\\underbrace{\\bigl(\\text{discount}\\bigr)}_{\\text{區段平均調整}}.\n",
        "$$"
      ]
    },
    {
      "cell_type": "code",
      "execution_count": 959,
      "metadata": {},
      "outputs": [
        {
          "name": "stdout",
          "output_type": "stream",
          "text": [
            "[0, 0.001] => discount=0.9995\n",
            "[0, 0.1] => discount=0.9531\n",
            "[0, 0.2] => discount=0.9116\n",
            "[0.2, 0.3] => discount=0.8004\n",
            "[0.2, 0.9] => discount=0.6565\n",
            "[0.9, 0.999] => discount=0.5131\n",
            "[0.9, 1.0] => discount=0.5129\n"
          ]
        }
      ],
      "source": [
        "import math\n",
        "\n",
        "\n",
        "def calc_discount(a, b):\n",
        "    if b <= a:\n",
        "        raise ValueError(\"b should greater than a.\")\n",
        "\n",
        "    if a < 0 or b < 0:\n",
        "        # 不預期情況: 此函式假設 a, b >= 0\n",
        "        raise ValueError(\"a, b should be non-negative in this context.\")\n",
        "\n",
        "    # 如果 a > 0, 走正常公式:\n",
        "    numerator = (math.log2(b + 1) - math.log2(a + 1)) * math.log(2)\n",
        "    denom = b - a\n",
        "    return numerator / denom\n",
        "\n",
        "# --- 測試 ---\n",
        "test_cases = [\n",
        "    (0, 0.001),\n",
        "    (0, 0.1),\n",
        "    (0, 0.2),\n",
        "    (0.2, 0.3),\n",
        "    (0.2, 0.9),\n",
        "    (0.9, 0.999),\n",
        "    (0.9, 1.0),\n",
        "]\n",
        "\n",
        "for a, b in test_cases:\n",
        "    d_log2 = calc_discount(a, b)\n",
        "    print(f\"[{a}, {b}] => discount={d_log2:.4f}\")"
      ]
    },
    {
      "cell_type": "code",
      "execution_count": 960,
      "metadata": {},
      "outputs": [
        {
          "name": "stdout",
          "output_type": "stream",
          "text": [
            "[0, 0.0005, 86400] => premium=0.0105\n",
            "[0.0005, 0.001, 86400] => premium=0.0105\n"
          ]
        }
      ],
      "source": [
        "def calc_premium(q_old, q_new, basis, duration_in_sec):\n",
        "    \"\"\"\n",
        "    最終 Premium = (0.4 * basis * sqrt(time)) * discount\n",
        "    discount = (對應區間 [q_old, q_new] 的對數平均)\n",
        "    \"\"\"\n",
        "    discount = calc_discount(q_old/w, q_new/w)\n",
        "\n",
        "    t_yr = duration_in_sec / (365.0 * 86400)\n",
        "    basic_rate = 0.4 * basis * math.sqrt(t_yr)\n",
        "\n",
        "    return basic_rate * discount\n",
        "\n",
        "# --- 測試 ---\n",
        "test_cases = [\n",
        "    (0, 0.0005, 86400),\n",
        "    (0.0005, 0.001, 86400),\n",
        "]\n",
        "\n",
        "for sqrt_Q_old, sqrt_Q_new, time in test_cases:\n",
        "    premium = calc_premium(sqrt_Q_old, sqrt_Q_new, basis, time)\n",
        "    print(f\"[{sqrt_Q_old}, {sqrt_Q_new}, {time}] => premium={premium:.4f}\")"
      ]
    },
    {
      "cell_type": "code",
      "execution_count": 961,
      "metadata": {},
      "outputs": [
        {
          "name": "stdout",
          "output_type": "stream",
          "text": [
            "(20181.0, 115200.0)\n",
            "(20180.0, 86400.0)\n"
          ]
        }
      ],
      "source": [
        "def compute_due_time_and_duration(lock_days: int):\n",
        "    \"\"\"\n",
        "    根據當前時間與鎖倉天數，計算到期的 UTC 日期（以天為單位）與實際鎖倉時間（秒數）\n",
        "    \"\"\"\n",
        "\n",
        "    current_timestamp = tm.getTimestamp()\n",
        "\n",
        "    due = (current_timestamp + 86399) // 86400 + lock_days\n",
        "    duration_in_sec = due * 86400 - current_timestamp\n",
        "\n",
        "    return due, duration_in_sec\n",
        "\n",
        "# --- 測試 ---\n",
        "tm = TimeManager()\n",
        "# 模擬在非午夜整點建倉，鎖倉時間設定 1 天，但實際鎖倉期間為 1 天又 8 小時：\n",
        "tm.setCurrentTime(datetime(2025, 4, 1, 16, 0, tzinfo=timezone.utc))\n",
        "print(compute_due_time_and_duration(1))  \n",
        "\n",
        "# 模擬在午夜整點時建倉，鎖倉時間設定 1 天，實際鎖倉期間也為 1 天：\n",
        "tm.setCurrentTime(datetime(2025, 4, 1, 0, 0, tzinfo=timezone.utc))\n",
        "print(compute_due_time_and_duration(1))"
      ]
    },
    {
      "cell_type": "markdown",
      "metadata": {},
      "source": [
        "### DysonV2 deposit 公式\n",
        "$$\n",
        "Q = 4 \\cdot (\\sqrt{(x+input_0)(y+input_1)} - \\sqrt{xy})^2\n",
        "$$"
      ]
    },
    {
      "cell_type": "code",
      "execution_count": 962,
      "metadata": {},
      "outputs": [],
      "source": [
        "def dyson_deposit_formula(inputAmt0, inputAmt1, lockDays):\n",
        "    global accumulatd_sqrt_Q\n",
        "    global x, y\n",
        "\n",
        "    \"\"\"\n",
        "    依照 Dyson V2 公式計算:\n",
        "    Q = 4 * ( sqrt((x+input0)*(y+input1)) - sqrt(x*y) )^2\n",
        "    並回傳 (noteAmt0, noteAmt1, Q)\n",
        "    \"\"\"\n",
        "    sqrt_xy = math.sqrt(x * y)\n",
        "    sqrt_xMyN = math.sqrt((x + inputAmt0) * (y + inputAmt1))\n",
        "    diff = max(sqrt_xMyN - sqrt_xy, 0)\n",
        "    Q = 4.0 * diff * diff\n",
        "\n",
        "    # 判斷單邊比較: inputAmt0 / x vs. inputAmt1 / y\n",
        "    # 等價於 inputAmt0*y > inputAmt1*x\n",
        "    if (inputAmt0 * y) > (inputAmt1 * x):\n",
        "        ratio = (inputAmt1 * x) / y if y > 0 else 0\n",
        "        noteAmt0 = inputAmt0 + ratio\n",
        "        if noteAmt0 == 0:\n",
        "            noteAmt1 = 0\n",
        "        else:\n",
        "            noteAmt1 = Q / noteAmt0\n",
        "    else:\n",
        "        ratio = (inputAmt0 * y) / x if x > 0 else 0\n",
        "        noteAmt1 = inputAmt1 + ratio\n",
        "        if noteAmt1 == 0:\n",
        "            noteAmt0 = 0\n",
        "        else:\n",
        "            noteAmt0 = Q / noteAmt1\n",
        "\n",
        "    sqrt_Q = math.sqrt(Q)\n",
        "\n",
        "    # 協定更新 q：\n",
        "    q_old = accumulatd_sqrt_Q\n",
        "    q_new = accumulatd_sqrt_Q + sqrt_Q  # 新的刻度\n",
        "\n",
        "    # 計算該筆投資的 Premium\n",
        "    (due_in_utc_day, lock_duration_in_sec) = compute_due_time_and_duration(lockDays)\n",
        "    premium = calc_premium(\n",
        "        q_old=q_old, q_new=q_new, basis=basis, duration_in_sec=lock_duration_in_sec\n",
        "    )\n",
        "\n",
        "    # 最後更新全域狀態\n",
        "    accumulatd_sqrt_Q = q_new\n",
        "    # 同時池子 x, y 也應更新 (模擬實際存入後的新餘額)\n",
        "    x += inputAmt0\n",
        "    y += inputAmt1\n",
        "\n",
        "    return (\n",
        "        noteAmt0,\n",
        "        noteAmt1,\n",
        "        sqrt_Q,\n",
        "        q_old,\n",
        "        q_new,\n",
        "        premium,\n",
        "        due_in_utc_day,\n",
        "        lock_duration_in_sec,\n",
        "    )"
      ]
    },
    {
      "cell_type": "markdown",
      "metadata": {},
      "source": [
        "# Withdraw 公式"
      ]
    },
    {
      "cell_type": "code",
      "execution_count": 963,
      "metadata": {},
      "outputs": [],
      "source": [
        "def compute_withdraw_ratio(x, y, m, n):\n",
        "    \"\"\"\n",
        "    計算使用者兌換比例 a，範圍應落在 [0, 1]。\n",
        "    其中：\n",
        "        x, y 為池子目前的 token0 和 token1 儲備\n",
        "        m, n 為票據 note 中的 token0Amt, token1Amt\n",
        "    \"\"\"\n",
        "    if m == 0 or n == 0:\n",
        "        raise ValueError(\"m and n must be non-zero\")\n",
        "\n",
        "    a = 0.5 + x / (2 * m) - y / (2 * n)\n",
        "    return max(0, min(a, 1))  # Clamp to [0, 1]"
      ]
    },
    {
      "cell_type": "markdown",
      "metadata": {},
      "source": [
        "## Rebalance 函式"
      ]
    },
    {
      "cell_type": "code",
      "execution_count": 964,
      "metadata": {},
      "outputs": [
        {
          "name": "stdout",
          "output_type": "stream",
          "text": [
            "New ETH Balance: 105.0, New USDC Balance: 210000.0\n"
          ]
        }
      ],
      "source": [
        "def rebalance(eth_balance: float, usdc_balance: float, price: float):\n",
        "    \"\"\"\n",
        "    目標：使池子價值 (ETH*price 與 USDC) 各占 50%。\n",
        "    回傳 (調整後的 eth_balance, usdc_balance)\n",
        "    \"\"\"\n",
        "    eth_value = eth_balance * price\n",
        "    total_value = eth_value + usdc_balance\n",
        "    target_val = total_value / 2\n",
        "\n",
        "    # ETH 太多 → 賣 ETH 換 USDC\n",
        "    if eth_value > target_val:\n",
        "        excess_val = eth_value - target_val\n",
        "        eth_to_sell = excess_val / price\n",
        "        return eth_balance - eth_to_sell, usdc_balance + excess_val\n",
        "\n",
        "    # USDC 太多 → 買 ETH\n",
        "    elif usdc_balance > target_val:\n",
        "        excess_val = usdc_balance - target_val\n",
        "        eth_to_buy = excess_val / price\n",
        "        return eth_balance + eth_to_buy, usdc_balance - excess_val\n",
        "\n",
        "    return eth_balance, usdc_balance  # 已平衡\n",
        "\n",
        "\n",
        "(newEthBalance, newUsdcBalance) = rebalance(110, 200000, 2000)\n",
        "print(f\"New ETH Balance: {newEthBalance}, New USDC Balance: {newUsdcBalance}\")"
      ]
    },
    {
      "cell_type": "markdown",
      "metadata": {},
      "source": [
        "### Demo: 實際跑一筆 deposit"
      ]
    },
    {
      "cell_type": "code",
      "execution_count": 965,
      "metadata": {},
      "outputs": [],
      "source": [
        "import pandas as pd\n",
        "\n",
        "pd.set_option(\"display.float_format\", lambda x: \"%.12f\" % x)\n",
        "\n",
        "# Set current time for testing\n",
        "tm = TimeManager()\n",
        "tm.setCurrentTime(datetime(2025, 4, 1, 16, 00, tzinfo=timezone.utc))\n",
        "\n",
        "# Create initial parameters DataFrame\n",
        "initial_params = pd.DataFrame(\n",
        "    {\n",
        "        \"Parameter\": [\n",
        "            \"Pool ETH (x)\",\n",
        "            \"Pool USDC (y)\",\n",
        "            \"Daily Sell Target (ETH)\",\n",
        "            \"K (sqrt(x*y))\",\n",
        "            \"W (K * Daily Sell Target)\",\n",
        "            \"Current q\",\n",
        "            \"Basis (Annual Volatility)\",\n",
        "        ],\n",
        "        \"Value\": [x, y, daily_sell_target, k, w, accumulatd_sqrt_Q, basis],\n",
        "    }\n",
        ")"
      ]
    },
    {
      "cell_type": "code",
      "execution_count": 966,
      "metadata": {},
      "outputs": [],
      "source": [
        "def process_deposit(deposit_time_days, inputAmt0, inputAmt1):\n",
        "    (\n",
        "        noteAmt0,\n",
        "        noteAmt1,\n",
        "        sqrt_Q,\n",
        "        q_old,\n",
        "        q_new,\n",
        "        premium,\n",
        "        due_in_utc_day,\n",
        "        lock_duration_in_sec,\n",
        "    ) = dyson_deposit_formula(inputAmt0, inputAmt1, deposit_time_days)\n",
        "\n",
        "    noteAmt0WithPremium = noteAmt0 * (1 + premium)\n",
        "    noteAmt1WithPremium = noteAmt1 * (1 + premium)\n",
        "\n",
        "    a = compute_withdraw_ratio(x, y, noteAmt0WithPremium, noteAmt1WithPremium)\n",
        "\n",
        "    withdraw0 = noteAmt0WithPremium * a\n",
        "    withdraw1 = noteAmt1WithPremium * (1 - a)\n",
        "\n",
        "    return {\n",
        "        \"Days\": deposit_time_days,\n",
        "        \"Input(ETH, USDC)\": (inputAmt0, round(inputAmt1, 4)),\n",
        "        \"sqrt_Q\": sqrt_Q,\n",
        "        \"sqrt_Q_old/w, sqrt_Q_new/w\": (q_old / w, q_new / w),\n",
        "        \"total_Q\": accumulatd_sqrt_Q,\n",
        "        \"Note(ETH, USDC)\": (noteAmt0, round(noteAmt1, 4)),\n",
        "        \"DueInUTC\": datetime.fromtimestamp(\n",
        "            due_in_utc_day * 86400, tz=timezone.utc\n",
        "        ).strftime(\"%Y-%m-%d %H:%M:%S\"),\n",
        "        \"DueInUTC Day\": due_in_utc_day,\n",
        "        \"Lock Duration (sec)\": lock_duration_in_sec,\n",
        "        \"Lock Duration (days)\": lock_duration_in_sec / 86400,\n",
        "        \"Premium\": premium,\n",
        "        \"NoteWithPremiun(ETH, USDC)\": (\n",
        "            noteAmt0WithPremium,\n",
        "            noteAmt1WithPremium,\n",
        "        ),\n",
        "        \"withdraw(ETH, USDC)\": (withdraw0, round(withdraw1, 4)),\n",
        "        \"New Pool(ETH, USDC)\": (x, y),\n",
        "    }"
      ]
    },
    {
      "cell_type": "code",
      "execution_count": 967,
      "metadata": {},
      "outputs": [
        {
          "name": "stdout",
          "output_type": "stream",
          "text": [
            "\n",
            "=== Initial Parameters ===\n"
          ]
        },
        {
          "data": {
            "text/html": [
              "<div>\n",
              "<style scoped>\n",
              "    .dataframe tbody tr th:only-of-type {\n",
              "        vertical-align: middle;\n",
              "    }\n",
              "\n",
              "    .dataframe tbody tr th {\n",
              "        vertical-align: top;\n",
              "    }\n",
              "\n",
              "    .dataframe thead th {\n",
              "        text-align: right;\n",
              "    }\n",
              "</style>\n",
              "<table border=\"1\" class=\"dataframe\">\n",
              "  <thead>\n",
              "    <tr style=\"text-align: right;\">\n",
              "      <th></th>\n",
              "      <th>Parameter</th>\n",
              "      <th>Value</th>\n",
              "    </tr>\n",
              "  </thead>\n",
              "  <tbody>\n",
              "    <tr>\n",
              "      <th>0</th>\n",
              "      <td>Pool ETH (x)</td>\n",
              "      <td>10.000000000000</td>\n",
              "    </tr>\n",
              "    <tr>\n",
              "      <th>1</th>\n",
              "      <td>Pool USDC (y)</td>\n",
              "      <td>17887.981804331299</td>\n",
              "    </tr>\n",
              "    <tr>\n",
              "      <th>2</th>\n",
              "      <td>Daily Sell Target (ETH)</td>\n",
              "      <td>1.000000000000</td>\n",
              "    </tr>\n",
              "    <tr>\n",
              "      <th>3</th>\n",
              "      <td>K (sqrt(x*y))</td>\n",
              "      <td>422.941861304025</td>\n",
              "    </tr>\n",
              "    <tr>\n",
              "      <th>4</th>\n",
              "      <td>W (K * Daily Sell Target)</td>\n",
              "      <td>422.941861304025</td>\n",
              "    </tr>\n",
              "    <tr>\n",
              "      <th>5</th>\n",
              "      <td>Current q</td>\n",
              "      <td>0.000000000000</td>\n",
              "    </tr>\n",
              "    <tr>\n",
              "      <th>6</th>\n",
              "      <td>Basis (Annual Volatility)</td>\n",
              "      <td>0.500000000000</td>\n",
              "    </tr>\n",
              "  </tbody>\n",
              "</table>\n",
              "</div>"
            ],
            "text/plain": [
              "                   Parameter              Value\n",
              "0               Pool ETH (x)    10.000000000000\n",
              "1              Pool USDC (y) 17887.981804331299\n",
              "2    Daily Sell Target (ETH)     1.000000000000\n",
              "3              K (sqrt(x*y))   422.941861304025\n",
              "4  W (K * Daily Sell Target)   422.941861304025\n",
              "5                  Current q     0.000000000000\n",
              "6  Basis (Annual Volatility)     0.500000000000"
            ]
          },
          "execution_count": 967,
          "metadata": {},
          "output_type": "execute_result"
        }
      ],
      "source": [
        "print(\"\\n=== Initial Parameters ===\")\n",
        "initial_params"
      ]
    },
    {
      "cell_type": "markdown",
      "metadata": {},
      "source": [
        "# 回測對齊測試"
      ]
    },
    {
      "cell_type": "code",
      "execution_count": 968,
      "metadata": {},
      "outputs": [
        {
          "name": "stdout",
          "output_type": "stream",
          "text": [
            "New ETH Balance: 10.0724, New USDC Balance: 18017.490792594657\n",
            "=== Deposit Results ===\n"
          ]
        },
        {
          "data": {
            "text/html": [
              "<div>\n",
              "<style scoped>\n",
              "    .dataframe tbody tr th:only-of-type {\n",
              "        vertical-align: middle;\n",
              "    }\n",
              "\n",
              "    .dataframe tbody tr th {\n",
              "        vertical-align: top;\n",
              "    }\n",
              "\n",
              "    .dataframe thead th {\n",
              "        text-align: right;\n",
              "    }\n",
              "</style>\n",
              "<table border=\"1\" class=\"dataframe\">\n",
              "  <thead>\n",
              "    <tr style=\"text-align: right;\">\n",
              "      <th></th>\n",
              "      <th>Days</th>\n",
              "      <th>Input(ETH, USDC)</th>\n",
              "      <th>sqrt_Q</th>\n",
              "      <th>sqrt_Q_old/w, sqrt_Q_new/w</th>\n",
              "      <th>total_Q</th>\n",
              "      <th>Note(ETH, USDC)</th>\n",
              "      <th>DueInUTC</th>\n",
              "      <th>DueInUTC Day</th>\n",
              "      <th>Lock Duration (sec)</th>\n",
              "      <th>Lock Duration (days)</th>\n",
              "      <th>Premium</th>\n",
              "      <th>NoteWithPremiun(ETH, USDC)</th>\n",
              "      <th>withdraw(ETH, USDC)</th>\n",
              "      <th>New Pool(ETH, USDC)</th>\n",
              "    </tr>\n",
              "  </thead>\n",
              "  <tbody>\n",
              "    <tr>\n",
              "      <th>0</th>\n",
              "      <td>8</td>\n",
              "      <td>(0.1448, 0)</td>\n",
              "      <td>6.102187624227</td>\n",
              "      <td>(0.0, 0.014427958503356597)</td>\n",
              "      <td>6.102187624227</td>\n",
              "      <td>(0.1448, 257.1595)</td>\n",
              "      <td>2025-05-05 00:00:00</td>\n",
              "      <td>20213.000000000000</td>\n",
              "      <td>759311.000000000000</td>\n",
              "      <td>8.788321759259</td>\n",
              "      <td>0.030812165335</td>\n",
              "      <td>(0.14926160154045998, 265.08312822644103)</td>\n",
              "      <td>(0.11089585264120082, 68.1362)</td>\n",
              "      <td>(10.1448, 17887.9818043313)</td>\n",
              "    </tr>\n",
              "    <tr>\n",
              "      <th>1</th>\n",
              "      <td>3</td>\n",
              "      <td>(0, 1789.75)</td>\n",
              "      <td>41.314982023647</td>\n",
              "      <td>(0.0, 0.09768477846166196)</td>\n",
              "      <td>41.314982023647</td>\n",
              "      <td>(0.9537241176780239, 1789.75)</td>\n",
              "      <td>2025-04-30 00:00:00</td>\n",
              "      <td>20208.000000000000</td>\n",
              "      <td>268203.000000000000</td>\n",
              "      <td>3.104201388889</td>\n",
              "      <td>0.017597967232</td>\n",
              "      <td>(0.970507723449736, 1821.2459618543091)</td>\n",
              "      <td>(0.2440007960582936, 1363.3563)</td>\n",
              "      <td>(10.0724, 19807.240792594657)</td>\n",
              "    </tr>\n",
              "  </tbody>\n",
              "</table>\n",
              "</div>"
            ],
            "text/plain": [
              "   Days Input(ETH, USDC)          sqrt_Q   sqrt_Q_old/w, sqrt_Q_new/w  \\\n",
              "0     8      (0.1448, 0)  6.102187624227  (0.0, 0.014427958503356597)   \n",
              "1     3     (0, 1789.75) 41.314982023647   (0.0, 0.09768477846166196)   \n",
              "\n",
              "          total_Q                Note(ETH, USDC)             DueInUTC  \\\n",
              "0  6.102187624227             (0.1448, 257.1595)  2025-05-05 00:00:00   \n",
              "1 41.314982023647  (0.9537241176780239, 1789.75)  2025-04-30 00:00:00   \n",
              "\n",
              "        DueInUTC Day  Lock Duration (sec)  Lock Duration (days)  \\\n",
              "0 20213.000000000000  759311.000000000000        8.788321759259   \n",
              "1 20208.000000000000  268203.000000000000        3.104201388889   \n",
              "\n",
              "         Premium                 NoteWithPremiun(ETH, USDC)  \\\n",
              "0 0.030812165335  (0.14926160154045998, 265.08312822644103)   \n",
              "1 0.017597967232    (0.970507723449736, 1821.2459618543091)   \n",
              "\n",
              "               withdraw(ETH, USDC)            New Pool(ETH, USDC)  \n",
              "0   (0.11089585264120082, 68.1362)    (10.1448, 17887.9818043313)  \n",
              "1  (0.2440007960582936, 1363.3563)  (10.0724, 19807.240792594657)  "
            ]
          },
          "execution_count": 968,
          "metadata": {},
          "output_type": "execute_result"
        }
      ],
      "source": [
        "# Initialize results DataFrame\n",
        "deposits_df = pd.DataFrame()\n",
        "\n",
        "# First deposit\n",
        "tm.setCurrentTime(datetime(2025, 4, 26, 5, 4, 49, tzinfo=timezone.utc))\n",
        "deposit1 = process_deposit(8, 0.1448, 0)\n",
        "deposits_df = pd.concat([deposits_df, pd.DataFrame([deposit1])], ignore_index=True)\n",
        "\n",
        "(ethBalance, usdcBalance) = deposits_df.iloc[0][\"New Pool(ETH, USDC)\"]\n",
        "(newEthBalance, newUsdcBalance) = rebalance(ethBalance, usdcBalance, current_price)\n",
        "x = newEthBalance\n",
        "y = newUsdcBalance\n",
        "\n",
        "print(f\"New ETH Balance: {newEthBalance}, New USDC Balance: {newUsdcBalance}\")\n",
        "# Second deposit\n",
        "tm.setCurrentTime(datetime(2025, 4, 26, 21, 29, 57, tzinfo=timezone.utc))\n",
        "accumulatd_sqrt_Q = 0\n",
        "\n",
        "deposit2 = process_deposit(3, 0, 1789.75)\n",
        "deposits_df = pd.concat([deposits_df, pd.DataFrame([deposit2])], ignore_index=True)\n",
        "\n",
        "print(\"=== Deposit Results ===\")\n",
        "deposits_df"
      ]
    },
    {
      "cell_type": "code",
      "execution_count": 969,
      "metadata": {},
      "outputs": [],
      "source": [
        "# Initialize results DataFrame\n",
        "# deposits_df = pd.DataFrame()\n",
        "\n",
        "# # First deposit\n",
        "# deposit1 = process_deposit(1, 10, 0)\n",
        "# deposits_df = pd.concat([deposits_df, pd.DataFrame([deposit1])], ignore_index=True)\n",
        "\n",
        "# # Second deposit\n",
        "# deposit2 = process_deposit(1, 10, 0)\n",
        "# deposits_df = pd.concat([deposits_df, pd.DataFrame([deposit2])], ignore_index=True)\n",
        "\n",
        "# print(\"=== Deposit Results ===\")\n",
        "# deposits_df"
      ]
    },
    {
      "cell_type": "markdown",
      "metadata": {},
      "source": [
        "# Withdraw after certain condition"
      ]
    },
    {
      "cell_type": "markdown",
      "metadata": {},
      "source": [
        "### (user1 deposit) -> (user2 deposit) -> (user2 withdraw) -> (user1 withdraw)\n",
        "If user2 withdraw first, how much can user1 withdraw?"
      ]
    },
    {
      "cell_type": "code",
      "execution_count": 970,
      "metadata": {},
      "outputs": [
        {
          "name": "stdout",
          "output_type": "stream",
          "text": [
            "After User2 withdraw, User1 can withdraw ETH: 0.0, USDC: 265.08312822644103\n"
          ]
        }
      ],
      "source": [
        "(noteAmt0WithPremium, noteAmt1WithPremium) = deposits_df.iloc[0][\n",
        "    \"NoteWithPremiun(ETH, USDC)\"\n",
        "]\n",
        "(user2Withdraw0, user2Withdraw1) = deposits_df.iloc[1][\"withdraw(ETH, USDC)\"]\n",
        "a = compute_withdraw_ratio(x-user2Withdraw0, y-user2Withdraw1, noteAmt0WithPremium, noteAmt1WithPremium)\n",
        "\n",
        "user1Withdraw0 = noteAmt0WithPremium * a\n",
        "user1Withdraw1 = noteAmt1WithPremium * (1 - a)\n",
        "\n",
        "print(f\"After User2 withdraw, User1 can withdraw ETH: {user1Withdraw0}, USDC: {user1Withdraw1}\")"
      ]
    },
    {
      "cell_type": "markdown",
      "metadata": {},
      "source": [
        "### (user deposit) -> (pool rebalance) -> (user withdraw)\n",
        "If pool has been rebalanced, how much can user1 withdraw?"
      ]
    },
    {
      "cell_type": "code",
      "execution_count": 971,
      "metadata": {},
      "outputs": [
        {
          "name": "stdout",
          "output_type": "stream",
          "text": [
            "New ETH Balance: 10.0724, New USDC Balance: 18017.490792594657\n",
            "User1 can withdraw ETH: 0.03823423561674723, USDC: 197.18052850867755\n"
          ]
        }
      ],
      "source": [
        "(ethBalance, usdcBalance) = deposits_df.iloc[0][\"New Pool(ETH, USDC)\"]\n",
        "(newEthBalance, newUsdcBalance) = rebalance(ethBalance, usdcBalance, current_price)\n",
        "print(f\"New ETH Balance: {newEthBalance}, New USDC Balance: {newUsdcBalance}\")\n",
        "\n",
        "(noteAmt0WithPremium, noteAmt1WithPremium) = deposits_df.iloc[0][\n",
        "    \"NoteWithPremiun(ETH, USDC)\"\n",
        "]\n",
        "a = compute_withdraw_ratio(\n",
        "    newEthBalance, newUsdcBalance, noteAmt0WithPremium, noteAmt1WithPremium\n",
        ")\n",
        "\n",
        "user1Withdraw0 = noteAmt0WithPremium * a\n",
        "user1Withdraw1 = noteAmt1WithPremium * (1 - a)\n",
        "print(f\"User1 can withdraw ETH: {user1Withdraw0}, USDC: {user1Withdraw1}\")"
      ]
    },
    {
      "cell_type": "code",
      "execution_count": 972,
      "metadata": {},
      "outputs": [
        {
          "name": "stdout",
          "output_type": "stream",
          "text": [
            "ln(2): 0xb17217f7d1cf7800\n",
            "pi:    0x3243f6a8885a30000\n",
            "e:     0x2b7e151628aed2000\n"
          ]
        }
      ],
      "source": [
        "def to_q64_64(value: float) -> str:\n",
        "    \"\"\"\n",
        "    將十進位浮點數轉換成 Q64.64 fixed point 十六進位表示。\n",
        "    Q64.64 意味著乘以 2^64，再轉成十六進位。\n",
        "    \"\"\"\n",
        "    q64_val = int(value * (1 << 64))  # value * 2^64\n",
        "    return hex(q64_val)\n",
        "\n",
        "\n",
        "# 範例：\n",
        "print(\n",
        "    \"ln(2):\",\n",
        "    to_q64_64(\n",
        "        0.69314718055994530941723212145817656807550013436025525412068000949339362196\n",
        "    ),\n",
        ")  # ➜ 0xb17217f7d1cf79ac\n",
        "print(\"pi:   \", to_q64_64(3.141592653589793))  # ➜ 0x3243f6a8885a308d\n",
        "print(\"e:    \", to_q64_64(2.718281828459045))  # ➜ 0x2b7e151628aed2a6"
      ]
    }
  ],
  "metadata": {
    "kernelspec": {
      "display_name": "DysonV2-Python-1_sNre0H",
      "language": "python",
      "name": "python3"
    },
    "language_info": {
      "codemirror_mode": {
        "name": "ipython",
        "version": 3
      },
      "file_extension": ".py",
      "mimetype": "text/x-python",
      "name": "python",
      "nbconvert_exporter": "python",
      "pygments_lexer": "ipython3",
      "version": "3.13.2"
    }
  },
  "nbformat": 4,
  "nbformat_minor": 2
}
